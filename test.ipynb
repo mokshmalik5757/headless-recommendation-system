{
 "cells": [
  {
   "cell_type": "code",
   "execution_count": 3,
   "metadata": {},
   "outputs": [
    {
     "name": "stdout",
     "output_type": "stream",
     "text": [
      "[('Parker Jotter StainleSS Steel Ball Pen Gt', 0.8686502970910411), ('Parker Jotter SS Gt Ball Pen M-4 P911 E-Com', 0.8442278174628025), ('Parker Jotter SS Gt Ball Pen M-2P911 E-Com', 0.8254284133114953), ('Parker Jotter SS Gt Ball Pen M-3P911E-Com', 0.8254284133114953), ('Parker Jotter SS Ball Pen Gt M-1P911 E-Com', 0.8141581414563762), ('Parker Jotter Standard Ball Pen Black', 0.8077905898695089), ('Parker Jotter StainleSS Steel Ball Pen CtGl', 0.7924973560104087), ('Parker Jotter Standard Ball Pen Red', 0.7856075513960034), ('Parker Jotter Standard Ball Pen GtGl', 0.7389121780486185), ('Parker Jotter Gold Ball Pen', 0.7358549596873445)]\n"
     ]
    }
   ],
   "source": [
    "import pandas as pd\n",
    "from sklearn.feature_extraction.text import TfidfVectorizer\n",
    "from sklearn.decomposition import TruncatedSVD\n",
    "from sklearn.preprocessing import normalize\n",
    "from sklearn.metrics.pairwise import linear_kernel\n",
    "\n",
    "# Load and preprocess the data\n",
    "df = pd.read_csv(r\"C:\\Users\\Moksh\\Dropbox\\PC\\Downloads\\catalog_product_20210807_043549.csv\")\n",
    "df_cleaned = df.dropna(subset=['name', 'description', 'short_description', 'meta_keywords', 'meta_description']).copy()  # Explicit copy\n",
    "df_cleaned.reset_index(drop=True, inplace=True)\n",
    "df_cleaned['combined_text'] = df_cleaned['name'] + ' ' + df_cleaned['description'] + ' ' + df_cleaned['short_description'] + ' ' + df_cleaned['meta_keywords'] + ' ' + df_cleaned['meta_description']\n",
    "\n",
    "# TF-IDF vectorization\n",
    "tfidf_vectorizer = TfidfVectorizer(stop_words='english')\n",
    "tfidf_matrix = tfidf_vectorizer.fit_transform(df_cleaned['combined_text'])\n",
    "\n",
    "# Dimensionality reduction using TruncatedSVD\n",
    "svd = TruncatedSVD(n_components=500)\n",
    "tfidf_matrix_reduced = svd.fit_transform(tfidf_matrix)\n",
    "\n",
    "# Normalize the reduced matrix\n",
    "tfidf_matrix_normalized = normalize(tfidf_matrix_reduced)\n",
    "\n",
    "# Compute cosine similarity\n",
    "cosine_sim = linear_kernel(tfidf_matrix_normalized, tfidf_matrix_normalized)\n",
    "\n",
    "# Recommendation function\n",
    "def recommend_products(product_name):\n",
    "    idx = df_cleaned.index[df_cleaned['name'] == product_name].tolist()[0]\n",
    "    sim_scores = list(enumerate(cosine_sim[idx]))\n",
    "    sim_scores = sorted(sim_scores, key=lambda x: x[1], reverse=True)\n",
    "    sim_scores = sim_scores[1:11]\n",
    "    product_indices = [i[0] for i in sim_scores]\n",
    "    recommended_products = df_cleaned['name'].iloc[product_indices].tolist()\n",
    "    recommended_scores = [score[1] for score in sim_scores]\n",
    "    return list(zip(recommended_products, recommended_scores))\n",
    "\n",
    "# Sample usage\n",
    "recommendations = recommend_products(\"Parker Jotter SS Ball Pen Gt A\")\n",
    "print(recommendations)\n"
   ]
  },
  {
   "cell_type": "code",
   "execution_count": 4,
   "metadata": {},
   "outputs": [
    {
     "name": "stdout",
     "output_type": "stream",
     "text": [
      "[('Parker Vector SS Ct Roller Ball Pen With D-2', 0.9999999999999999), ('Parker Vector SS Ct Roller Ball Pen With D-3', 0.9999999999999999), ('Parker Vector SS Ct Roller Ball Pen With D-4', 0.9999999999999999), ('Parker Vector SS Ct Roller Ball Pen With D-5', 0.9999999999999999), ('Parker Vector SS Ct Roller Ball Pen With D-6', 0.9999999999999999), ('Parker Vector SS Ct Roller Ball Pen With D-7', 0.9999999999999999), ('Parker Vector SS Gt Roller Ball Pen B', 0.9252192082063389), ('Parker Vector SS Roller Ball Pen GtGl', 0.8940801321457456), ('Parker Vector SS Roller Ball Pen CtGl', 0.8805140414077203), ('Parker Vector SS Ct Roller Ball Pen M-3P911E-Com', 0.8486799382991345)]\n"
     ]
    }
   ],
   "source": [
    "# Sample usage\n",
    "recommendations = recommend_products(\"Parker Vector SS Ct Roller Ball Pen With D-4\")\n",
    "print(recommendations)"
   ]
  }
 ],
 "metadata": {
  "kernelspec": {
   "display_name": "env",
   "language": "python",
   "name": "python3"
  },
  "language_info": {
   "codemirror_mode": {
    "name": "ipython",
    "version": 3
   },
   "file_extension": ".py",
   "mimetype": "text/x-python",
   "name": "python",
   "nbconvert_exporter": "python",
   "pygments_lexer": "ipython3",
   "version": "3.11.4"
  },
  "orig_nbformat": 4
 },
 "nbformat": 4,
 "nbformat_minor": 2
}
